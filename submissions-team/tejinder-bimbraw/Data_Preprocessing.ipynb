{
 "cells": [
  {
   "cell_type": "markdown",
   "metadata": {},
   "source": [
    "# NEUROVISION PROJECT DATA PREPROCESSING\n"
   ]
  },
  {
   "cell_type": "code",
   "execution_count": null,
   "metadata": {},
   "outputs": [],
   "source": [
    "import pandas as pd\n",
    "import numpy as np\n",
    "\n",
    "\n",
    "from numpy.random import randn\n",
    "\n",
    "n = 10\n",
    "x = randn(n)\n",
    "\n",
    "# Initialize sum and count\n",
    "total_sum = 0\n",
    "count = 0\n",
    "\n",
    "# Iterate through the array\n",
    "for i in range(n):\n",
    "    if x[i] < 1 and x[i] > -1:\n",
    "        total_sum += x[i]\n",
    "        count += 1\n",
    "\n",
    "# Calculate the average if there are any values in the range\n",
    "if count > 0:\n",
    "    ex = total_sum / count\n",
    "    print(f\"The average of elements between -1 and 1 is: {ex}\")\n",
    "else:\n",
    "    print(\"No elements in the range -1 to 1.\")\n",
    "\n",
    " "
   ]
  },
  {
   "cell_type": "code",
   "execution_count": null,
   "metadata": {},
   "outputs": [],
   "source": []
  }
 ],
 "metadata": {
  "kernelspec": {
   "display_name": "base",
   "language": "python",
   "name": "python3"
  },
  "language_info": {
   "codemirror_mode": {
    "name": "ipython",
    "version": 3
   },
   "file_extension": ".py",
   "mimetype": "text/x-python",
   "name": "python",
   "nbconvert_exporter": "python",
   "pygments_lexer": "ipython3",
   "version": "3.12.7"
  }
 },
 "nbformat": 4,
 "nbformat_minor": 2
}
