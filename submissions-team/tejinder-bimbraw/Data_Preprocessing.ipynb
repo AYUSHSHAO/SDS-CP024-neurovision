{
 "cells": [
  {
   "cell_type": "markdown",
   "metadata": {},
   "source": [
    "# NEUROVISION PROJECT DATA PREPROCESSING\n"
   ]
  },
  {
   "cell_type": "code",
   "execution_count": null,
   "metadata": {},
   "outputs": [],
   "source": [
    "import pandas as pd\n",
    "import numpy as np\n",
    "\n",
    "\n",
    "from numpy.random import randn\n",
    "\n",
    "n = 10\n",
    "x = randn(n)\n",
    "\n",
    "# Initialize sum and count\n",
    "total_sum = 0\n",
    "count = 0\n",
    "\n",
    "# Iterate through the array\n",
    "for i in range(n):\n",
    "    if x[i] < 1 and x[i] > -1:\n",
    "        total_sum += x[i]\n",
    "        count += 1\n",
    "\n",
    "# Calculate the average if there are any values in the range\n",
    "if count > 0:\n",
    "    ex = total_sum / count\n",
    "    print(f\"The average of elements between -1 and 1 is: {ex}\")\n",
    "else:\n",
    "    print(\"No elements in the range -1 to 1.\")\n",
    "\n",
    " "
   ]
  },
  {
   "cell_type": "code",
   "execution_count": 2,
   "metadata": {},
   "outputs": [
    {
     "name": "stdout",
     "output_type": "stream",
     "text": [
      "Downloading from https://www.kaggle.com/api/v1/datasets/download/ultralytics/brain-tumor?dataset_version_number=2...\n"
     ]
    },
    {
     "name": "stderr",
     "output_type": "stream",
     "text": [
      "100%|██████████| 4.19M/4.19M [00:00<00:00, 5.18MB/s]"
     ]
    },
    {
     "name": "stdout",
     "output_type": "stream",
     "text": [
      "Extracting files...\n"
     ]
    },
    {
     "name": "stderr",
     "output_type": "stream",
     "text": [
      "\n"
     ]
    },
    {
     "name": "stdout",
     "output_type": "stream",
     "text": [
      "Path to dataset files: C:\\Users\\tejin\\.cache\\kagglehub\\datasets\\ultralytics\\brain-tumor\\versions\\2\n"
     ]
    }
   ],
   "source": [
    "import kagglehub\n",
    "\n",
    "# Download latest version\n",
    "path = kagglehub.dataset_download(\"ultralytics/brain-tumor\")\n",
    "\n",
    "print(\"Path to dataset files:\", path)"
   ]
  }
 ],
 "metadata": {
  "kernelspec": {
   "display_name": "base",
   "language": "python",
   "name": "python3"
  },
  "language_info": {
   "codemirror_mode": {
    "name": "ipython",
    "version": 3
   },
   "file_extension": ".py",
   "mimetype": "text/x-python",
   "name": "python",
   "nbconvert_exporter": "python",
   "pygments_lexer": "ipython3",
   "version": "3.12.7"
  }
 },
 "nbformat": 4,
 "nbformat_minor": 2
}
